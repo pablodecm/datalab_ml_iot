{
 "cells": [
  {
   "cell_type": "markdown",
   "metadata": {
    "slideshow": {
     "slide_type": "slide"
    }
   },
   "source": [
    "\n",
    "<div style=\"text-align:center\">\n",
    "\n",
    "<h1> Practical Data Science for Internet of Things </h1>\n",
    "<hr style=\"height:4px\">\n",
    "\n",
    "<b/> \n",
    "\n",
    "<h2> 7th, 8th and 9th April 2025 </h2>\n",
    "<h2> Data Science Master (UC-UIMP-CSIC) </h2>\n",
    "\n",
    "\n",
    "</div>\n",
    "\n",
    "<br>\n",
    "\n",
    "## *Pablo de Castro (pablodecm@gmail.com)*\n",
    "\n",
    "<i class=\"fa fa-twitter\"></i> [@pablodecm](https://twitter.com/pablodecm)\n",
    "&nbsp; <i class=\"fa fa-linkedin\"></i> [pablodecm](https://www.linkedin.com/in/pablodecm)\n",
    "&nbsp; <i class=\"fa fa-github\"></i> [pablodecm](https://github.com/pablodecm)\n",
    "&nbsp; [pablodecm.com](https://pablodecm.com)\n"
   ]
  },
  {
   "cell_type": "markdown",
   "metadata": {
    "slideshow": {
     "slide_type": "slide"
    }
   },
   "source": [
    "<div style=\"text-align:center\">\n",
    "\n",
    "<h2> Welcome to this DataLab </h2>\n",
    "    \n",
    "</div>\n",
    "\n",
    "<div align=\"center\">\n",
    "<img width=\"35%\" src=\"images/welcome_gif.gif\"/>\n",
    "</div>"
   ]
  },
  {
   "cell_type": "markdown",
   "metadata": {
    "cell_style": "center",
    "slideshow": {
     "slide_type": "slide"
    }
   },
   "source": [
    "<img style=\"float:right;border-radius: 50%\" width=\"20%\" src=\"images/instructor_photo.jpg\"/>\n",
    "<div>\n",
    "    \n",
    "<h2> Instructor Bio </h2>\n",
    "\n",
    "    \n",
    "<p> I am Pablo and I enjoy building things with data and software. 🙂 </p>\n",
    "    \n",
    "<h4> Academic Background </h4>\n",
    "\n",
    "<p><em>2010-2015</em>: Bachelor's and Master's degree (in Physics) @ UNICAN.</p>\n",
    "\n",
    "<p><em>2015-2019</em>: Physics PhD at the University of Padua, focused on:</p>\n",
    "<ul>\n",
    "<li> Development of new machine learning techniques for the LHC. </li>\n",
    "<li> Improving statistical analysis at scientific experiments. </li>\n",
    "</ul>\n",
    "    \n",
    "<h4> Industry Experience </h4>\n",
    "\n",
    "<p><em>2019-2022</em>: Data Scientist and Head of ML Engineering at <a href=\"https://www.treelogic.com/en/index.html\">Treelogic</a> (data-centric SME consultancy)\n",
    "</p>\n",
    "\n",
    "<p><em>2022-2024</em>: Product and Engineering at <a href=\"https://reforestum.com/\">Reforestum</a> (climate tech startup)\n",
    "</p>\n",
    "   \n",
    "<p><em>2024-now</em>: Founding Engineer at <a href=\"https://www.awen.ai/\">awen<a/> (generative AI startup)\n",
    "</p>\n",
    "\n",
    "</div>"
   ]
  },
  {
   "cell_type": "markdown",
   "metadata": {
    "slideshow": {
     "slide_type": "subslide"
    }
   },
   "source": [
    "## ... and now it is your turn"
   ]
  },
  {
   "cell_type": "markdown",
   "metadata": {
    "slideshow": {
     "slide_type": "slide"
    }
   },
   "source": [
    "## Lectures Objectives\n",
    "\n",
    "Understand some of the roles of data science for Internet of Things (IoT) scenarios.\n",
    "\n",
    "Explore using practical examples with several IoT data scenarios.\n",
    "\n",
    "Highlight the main data challenges in real-word IoT applications.\n"
   ]
  },
  {
   "cell_type": "markdown",
   "metadata": {
    "slideshow": {
     "slide_type": "subslide"
    }
   },
   "source": [
    "## Lectures Limitations\n",
    "\n",
    "The number of possible applications of data science within the internet of things (IoT) is very large (and growing).\n",
    "  - Here we we will only cover a small subset\n",
    "\n",
    "Will assume familiarity with data science and ML techniques.\n",
    "  - Will be focussing more in applications\n",
    " "
   ]
  },
  {
   "cell_type": "markdown",
   "metadata": {
    "slideshow": {
     "slide_type": "slide"
    }
   },
   "source": [
    "##  Lectures Materials\n",
    "\n",
    "All the material in this tutorial is available online at the following GitHub repository:\n",
    "\n",
    "<p style=\"text-align: center; font-size: 150%\">\n",
    "<a href=\"https://github.com/pablodecm/datalab_ml_iot\">https://github.com/pablodecm/datalab_ml_iot</a>\n",
    "</p>\n",
    "\n",
    "Do not hesistate in creating an Issue or a Pull Request, if you find a problem or want to suggest an improvement.\n"
   ]
  },
  {
   "cell_type": "markdown",
   "metadata": {
    "slideshow": {
     "slide_type": "slide"
    }
   },
   "source": [
    "## Working with Jupyter Notebooks\n",
    "\n",
    "For most of the use cases, we will be working with Jupyter Notebooks.\n",
    "\n",
    "You can optionally use [Google Colaboratory](https://colab.research.google.com/) to simplify the environment setup and ensure that everyone has *powerful enough computing resources*."
   ]
  },
  {
   "cell_type": "markdown",
   "metadata": {
    "slideshow": {
     "slide_type": "subslide"
    }
   },
   "source": [
    "## Other Recommended Requirements\n",
    "\n",
    "For parts of the class we might be needing (and it is good to have them anyway):\n",
    " - Docker (20 or newer recommended)\n",
    " - Docker Compose\n",
    " - A good development editor (I recommend VSCode or Cursor)\n",
    "\n",
    "\n",
    "Please follow the official instructions to install them in your machine."
   ]
  },
  {
   "cell_type": "markdown",
   "metadata": {
    "slideshow": {
     "slide_type": "subslide"
    }
   },
   "source": [
    "## Jupyter and Google Colaboratory Basics\n",
    "\n",
    "In case you are not familiar, you can find a tutorial and introduction at:\n",
    "\n",
    "- https://colab.research.google.com/notebooks/welcome.ipynb\n",
    "\n",
    "I recommend logging in with you Google account and copying the notebook you are working\n",
    "on if you want to save your results.\n",
    "\n",
    "<p>\n",
    "For example, load (and then save using File->Save a Copy as) this notebook by clicking\n",
    "on the following badge:\n",
    "<a href=\"https://colab.research.google.com/github/pablodecm/datalab_ml_iot/blob/master/00_introduction/introduction.ipynb\">\n",
    "  <img src=\"https://colab.research.google.com/assets/colab-badge.svg\" alt=\"Open In Colab\" style=\"display: inline; margin: 0px;\"/>\n",
    "</a>\n",
    "</p>"
   ]
  },
  {
   "cell_type": "code",
   "execution_count": null,
   "metadata": {
    "slideshow": {
     "slide_type": "subslide"
    }
   },
   "outputs": [],
   "source": [
    "# we will be using Python3 extensively\n",
    "\n",
    "# remember print is a function (with parenthesis)\n",
    "print(\"Hello World!\") "
   ]
  },
  {
   "cell_type": "code",
   "execution_count": null,
   "metadata": {
    "slideshow": {
     "slide_type": "subslide"
    }
   },
   "outputs": [],
   "source": [
    "# you can also run shell commands within the notebook\n",
    "\n",
    "# e.g. this check the GPU model and memory\n",
    "!nvidia-smi\n",
    "# this the CPU\n",
    "!lscpu\n",
    "# this the memory\n",
    "!cat /proc/meminfo\n",
    "# this the disk\n",
    "!df -h\n",
    "\n",
    "# if Collab this virtual machine will be turn-off and erased\n",
    "# in about 12 hours, so save your notebooks to Google Drive"
   ]
  },
  {
   "cell_type": "markdown",
   "metadata": {
    "slideshow": {
     "slide_type": "slide"
    }
   },
   "source": [
    "## Motivation for Data Science in IoT\n",
    "\n",
    "<div align=\"center\">\n",
    "<img width=\"35%\" src=\"images/iot_hype.png\"/>\n",
    "</div>\n",
    "\n",
    "The amount and diversity of data generated by IoT devices grows every year,\n",
    "yet complex applications often require:\n",
    "   - understanding and value extraction from explorative data analysis and visualization.\n",
    "   - prediction and modelling capabilities by using machine learning techniques.\n",
    "\n",
    "*Image source*: [towardsdatascience.com](https://towardsdatascience.com/iot-machine-learning-is-going-to-change-the-world-7c4e0cd7ac32)\n"
   ]
  },
  {
   "cell_type": "markdown",
   "metadata": {
    "slideshow": {
     "slide_type": "slide"
    }
   },
   "source": [
    "## Practical Use Cases Overview\n",
    "\n",
    "We will be covering a few applications of Data Science\n",
    "for the Internet of Things, in particular:\n",
    "\n",
    "1. **Predictive Maintenance** (*optional, can be followed outside of class*): predict when an turbofan plane engine will break based on\n",
    "    reading of the integrated sensors so costly maintenance tasks can be scheduled smartly. <a href=\"../01_predictive_maintenance/predictive_maintenance.ipynb\">\n",
    "<img src=\"https://img.shields.io/badge/Open-Notebook-orange\" alt=\"Open In Notebook\" style=\"display: inline; margin: 0px;\"/></a>\n",
    "<a href=\"https://colab.research.google.com/github/pablodecm/datalab_ml_iot/blob/master/01_predictive_maintenance/predictive_maintenance.ipynb\"><img src=\"https://colab.research.google.com/assets/colab-badge.svg\" alt=\"Open In Collab\" style=\"display: inline; margin: 0px;\"/></a>\n",
    "\n",
    "2. **Trip Duration Prediction** (*optional, can be followed outside of class*): based real-world Taxi data from New York city in 2016, predict\n",
    "   the duration of a taxi trip based on the pickup/drop-off coordinates, taxi information and\n",
    "   additional datasets. <a href=\"../02_trip_duration_prediction/trip_duration_prediction.ipynb\">\n",
    "<img src=\"https://img.shields.io/badge/Open-Notebook-orange\" alt=\"Open In Notebook\" style=\"display: inline; margin: 0px;\"/></a> <a href=\"https://colab.research.google.com/github/pablodecm/datalab_ml_iot/blob/master/02_trip_duration_prediction/trip_duration_prediction.ipynb\"><img src=\"https://colab.research.google.com/assets/colab-badge.svg\" alt=\"Open In Collab\" style=\"display: inline; margin: 0px;\"/>\n",
    "</a>\n",
    "\n",
    "3. **Solving Real World Problems** (optional extra material not covered): brainstorm the viability and data aspects of some IOT-based and data science solutions or systems that could help with real word problems. Example of pandemic contact tracing using your own Google Location history. <a href=\"../03_solving_problems/solving_problems.ipynb\">\n",
    "<img src=\"https://img.shields.io/badge/Open-Notebook-orange\" alt=\"Open In Noteboook\" style=\"display: inline; margin: 0px;\"/></a> <a href=\"https://colab.research.google.com/github/pablodecm/datalab_ml_iot/blob/master/03_solving_problems/solving_problems.ipynb\"><img src=\"https://colab.research.google.com/assets/colab-badge.svg\" alt=\"Open In Collab\" style=\"display: inline; margin: 0px;\"/>\n",
    "</a>\n",
    "\n",
    "4. **Internet of (Magic) Wands** (*proposed focus of all three classes*): using our smartphone as a magic wand, we will collect data of labelled magic spells and then train a spell recognition model based on our own sensor data. <a href=\"../04_internet_of_wands/internet_of_wands.ipynb\">\n",
    "<img src=\"https://img.shields.io/badge/Open-Notebook-orange\" alt=\"Open In Notebook\" style=\"display: inline; margin: 0px;\"/></a> <a href=\"https://colab.research.google.com/github/pablodecm/datalab_ml_iot/blob/master/04_internet_of_wands/internet_of_wands.ipynb\"><img src=\"https://colab.research.google.com/assets/colab-badge.svg\" alt=\"Open In Colab\" style=\"display: inline; margin: 0px;\"/>\n",
    "</a>\n",
    " "
   ]
  },
  {
   "cell_type": "markdown",
   "metadata": {
    "slideshow": {
     "slide_type": "slide"
    }
   },
   "source": [
    "## Let's get started!\n",
    "\n",
    "By opening the notebook for the first part (i.e. Predictive Maintenance).\n",
    "\n",
    "<br>\n",
    "<a href=\"../01_predictive_maintenance/predictive_maintenance.ipynb\">\n",
    "<img src=\"https://img.shields.io/badge/Open-Notebook-orange\" alt=\"Open In Notebook\"/></a>\n",
    "<br>\n",
    "<a href=\"https://colab.research.google.com/github/pablodecm/datalab_ml_iot/blob/master/01_predictive_maintenance/predictive_maintenance.ipynb\">\n",
    "  <img src=\"https://colab.research.google.com/assets/colab-badge.svg\" alt=\"Open In Colab\"/>\n",
    "</a>"
   ]
  }
 ],
 "metadata": {
  "celltoolbar": "Slideshow",
  "kernelspec": {
   "display_name": "Python 3 (ipykernel)",
   "language": "python",
   "name": "python3"
  },
  "language_info": {
   "codemirror_mode": {
    "name": "ipython",
    "version": 3
   },
   "file_extension": ".py",
   "mimetype": "text/x-python",
   "name": "python",
   "nbconvert_exporter": "python",
   "pygments_lexer": "ipython3",
   "version": "3.8.15"
  },
  "rise": {
   "theme": "black"
  }
 },
 "nbformat": 4,
 "nbformat_minor": 4
}
