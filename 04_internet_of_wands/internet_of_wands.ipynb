{
 "cells": [
  {
   "cell_type": "markdown",
   "metadata": {
    "slideshow": {
     "slide_type": "slide"
    }
   },
   "source": [
    "# Internet of Wands (WIP)\n",
    "\n",
    "This notebook is part of [*Practical Data Science for IoT*](https://github.com/pablodecm/datalab_ml_iot) tutorial by Pablo de Castro"
   ]
  },
  {
   "cell_type": "markdown",
   "metadata": {
    "slideshow": {
     "slide_type": "slide"
    }
   },
   "source": [
    "## Overview of Use Case\n",
    "\n",
    "The aim of this example is to demonstrate an end-to-end\n",
    "example of a machine learning for a (consumer) IoT application\n",
    "and remark the main challenges associated.\n",
    "\n",
    "**The use case chosen is a imaginary application where smartphones\n",
    "devices act as magic wands and we want to make a spell recognition\n",
    "system, which will be referred as Internet of Wands (IoW).**\n",
    "\n",
    "We will be focussing on how could we can collect and process \n",
    "for training and evaluating a model for such an application. We will also\n",
    "discuss how we could deploy to production.\n"
   ]
  },
  {
   "cell_type": "markdown",
   "metadata": {},
   "source": [
    "### Important Remark\n",
    "\n",
    "Most of the discussion and technology choices to follow are\n",
    "not unique of this application and could be readily applied\n",
    "to use cases  such as:\n",
    "- Human Activity Recognition with Wearables (e.g. running, lying down, driving or sitting)\n",
    "- Elderly fall/accident/emergency alert system\n",
    "- Possible Consumer Applications, for example:\n",
    "    - Gym Repetition Counter: identify exercise and count the reps based on wearables\n",
    "    - Parkinson Disease Early Detection system\n",
    "- Also broadly related with distributed training applications such a self-driving cars (e.g. Tesla Object recognition model [[1]](#References))"
   ]
  },
  {
   "cell_type": "markdown",
   "metadata": {
    "slideshow": {
     "slide_type": "slide"
    }
   },
   "source": [
    "\n",
    "## Important Aspects\n",
    "\n",
    "We will be discussing many aspects of the data cycle in supervised ML workflows for IoT, such as:\n",
    "\n",
    "- *Training Data Collection*:\n",
    "    - What device/hardware/configuration are we gonna use for a given application?\n",
    "    - Which sensors and additional data are relevant?\n",
    "    - Who/how is gonna be labelling/labelled the data? Do they need training to standarise the process?\n",
    "    - How much data we need for the application?\n",
    "    - Can we oversee and control the data collection process?\n",
    "    - How can we make data labelling it as easy as possible?\n",
    "    - Can we replicate the training conditions in production?\n",
    "    - **How expensive is it gonna be?**"
   ]
  },
  {
   "cell_type": "markdown",
   "metadata": {
    "slideshow": {
     "slide_type": "subslide"
    }
   },
   "source": [
    "- *Training Data Transport and Processing*:\n",
    "    - Where and how are we gonna store the data?\n",
    "    - How are we gonna transfer data from the devices to our data processing center?\n",
    "    - How much preprocessing we are gonna do on the device (i.e. edge computing)?\n",
    "    - How can we ensure security and privacy (e.g. transport encryption)?\n",
    "    - Have we test the data collection framework properly before data collection starts?\n",
    "    - **What volume of data is expected to flow to the servers per unit of time? Will the infrastructure scale and be robust enough?**"
   ]
  },
  {
   "cell_type": "markdown",
   "metadata": {
    "slideshow": {
     "slide_type": "subslide"
    }
   },
   "source": [
    "- *Data analysis and model building*:\n",
    "    - What do we want to do?\n",
    "    - Which tools/platforms/servers are we gonna use to explore the data?\n",
    "    - What type of data are we studying (e.g. time-series sensor, audio, images, text, etc)?\n",
    "    - What is the dimensionality and structure of the data?\n",
    "    - What are the possible factors that affect to the variance of\n",
    "      the data (e.g. data collection issues or changes in the\n",
    "      environment)?\n",
    "    - How easy will it be?\n",
    "    - Which techniques are more appropiate for a given type and volume of data?\n",
    "    - Can we complement with existing datasets or starting from a pre-trained model?\n",
    "    - How are we gonna to evaluate the performance to have unbiased measures?\n",
    "    - **What is the right trade-off between model complexity and\n",
    "    performance for the given application?**\n",
    "\n"
   ]
  },
  {
   "cell_type": "markdown",
   "metadata": {
    "slideshow": {
     "slide_type": "subslide"
    }
   },
   "source": [
    "- *Production Environment*:\n",
    "    - How are we gonna be using the resulting model in production?\n",
    "    - Can we deploy it first as a beta or internally to verify that it works as expected?\n",
    "    - Where are we gonna to carry out the model evaluation (e.g. our own remote servers, cloud or device)?\n",
    "    - Can we setup a loop monitoring and redeployment the model in production?\n",
    "    - **How much is expected to be gained by training with more data or improving the model?**"
   ]
  },
  {
   "cell_type": "markdown",
   "metadata": {
    "slideshow": {
     "slide_type": "slide"
    }
   },
   "source": [
    "## Data Collection Infrastructure\n",
    "\n",
    "Here is an scheme of how the chosen data collection infrastructure,\n",
    "that use common IoT technologies (e.g. a MQTT broker and node-red):\n",
    "\n",
    "<div align=\"center\">\n",
    "  <img src=\"https://raw.githubusercontent.com/pablodecm/datalab_ml_iot/master/04_internet_of_wands/images/iow_infrastructure.png\" height=\"50%\" style=\"max-width: 80%\">\n",
    "</div>"
   ]
  },
  {
   "cell_type": "markdown",
   "metadata": {},
   "source": [
    "## Downloading Latest Dataset\n",
    "\n",
    "You can check a list with latest raw datasets compressed in zip\n",
    "format at:\n",
    "- https://iow.pablodecm.com/iow_data_zips/\n"
   ]
  },
  {
   "cell_type": "code",
   "execution_count": null,
   "metadata": {
    "slideshow": {
     "slide_type": "slide"
    }
   },
   "outputs": [],
   "source": [
    "!LATEST=\"iow_data_09-07-05-09-2019.zip\"; wget \"https://iow.pablodecm.com/iow_data_zips/\"$LATEST; unzip -o $LATEST"
   ]
  },
  {
   "cell_type": "markdown",
   "metadata": {
    "slideshow": {
     "slide_type": "slide"
    }
   },
   "source": [
    "### Loading the Data\n",
    "\n",
    "We have do decide how we want to represent the data and also\n",
    "work on a custom reader for our set of json-based files."
   ]
  },
  {
   "cell_type": "code",
   "execution_count": null,
   "metadata": {},
   "outputs": [],
   "source": [
    "import pandas as pd\n",
    "import numpy as np\n",
    "\n",
    "example_file = \"iow_data/wingardium-leviosa/Peppapig_9b2bd7a9.0696f8.json\"\n",
    "\n",
    "example_df = pd.read_json(example_file)\n",
    "print(example_df.dtypes)\n",
    "example_df"
   ]
  },
  {
   "cell_type": "code",
   "execution_count": null,
   "metadata": {},
   "outputs": [],
   "source": [
    "# IMPORTANT for later to deal with times\n",
    "# have to divide by 1000.0 to change from ms timestamp (JS)\n",
    "# to second timestamp\n",
    "(example_df[\"start_timestamp\"]/1000.0).apply(pd.Timestamp.fromtimestamp)"
   ]
  },
  {
   "cell_type": "code",
   "execution_count": null,
   "metadata": {},
   "outputs": [],
   "source": [
    "import json\n",
    "\n",
    "def read_json_file(file_name):\n",
    "    with open(file_name) as f:\n",
    "        json_dict = json.load(f)\n",
    "    return json_dict\n",
    "\n",
    "read_json_file(example_file)"
   ]
  },
  {
   "cell_type": "markdown",
   "metadata": {},
   "source": [
    "About high-resolution time in web applications:\n",
    "\n",
    "https://www.w3.org/TR/hr-time-2/#dfn-time-origin"
   ]
  },
  {
   "cell_type": "markdown",
   "metadata": {},
   "source": [
    "## References\n",
    "\n",
    "For an overview of a state-of-the-art distributed training\n",
    "infrastructure including redeployment and the importance\n",
    "of edge in real-time applications you can check the Tesla Autonomy day presentation:\n",
    "\n",
    "- [1] [*Tesla Autonomy Day*](https://www.youtube.com/watch?v=Ucp0TTmvqOE)  Youtube video (+2hrs)\n",
    "\n",
    "There are several publications using combinations of RNNs and CNNs\n",
    "for dealing with IoT sensor data, for task such as\n",
    "Human Activity Recognition:\n",
    "- [2] Yao, Shuochao, et al. [*Deepsense: A unified deep learning framework for time-series mobile sensing data processing*](https://arxiv.org/abs/1611.01942) Proceedings of the 26th International Conference on World Wide Web. International World Wide Web Conferences Steering Committee, 2017."
   ]
  }
 ],
 "metadata": {
  "celltoolbar": "Slideshow",
  "kernelspec": {
   "display_name": "Python 3",
   "language": "python",
   "name": "python3"
  },
  "language_info": {
   "codemirror_mode": {
    "name": "ipython",
    "version": 3
   },
   "file_extension": ".py",
   "mimetype": "text/x-python",
   "name": "python",
   "nbconvert_exporter": "python",
   "pygments_lexer": "ipython3",
   "version": "3.6.10"
  }
 },
 "nbformat": 4,
 "nbformat_minor": 2
}
